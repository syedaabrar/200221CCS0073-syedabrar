{
  "nbformat": 4,
  "nbformat_minor": 0,
  "metadata": {
    "colab": {
      "provenance": [],
      "mount_file_id": "1XNivMKhlb3A14K6n_X9uHh404p1RyYSB",
      "authorship_tag": "ABX9TyP7YX8gB38+beIH8Hq/vHNL",
      "include_colab_link": true
    },
    "kernelspec": {
      "name": "python3",
      "display_name": "Python 3"
    },
    "language_info": {
      "name": "python"
    }
  },
  "cells": [
    {
      "cell_type": "markdown",
      "metadata": {
        "id": "view-in-github",
        "colab_type": "text"
      },
      "source": [
        "<a href=\"https://colab.research.google.com/github/syedaabrar/200221CCS0073-syedabrar/blob/main/DataDataCleaning_csv.ipynb\" target=\"_parent\"><img src=\"https://colab.research.google.com/assets/colab-badge.svg\" alt=\"Open In Colab\"/></a>"
      ]
    },
    {
      "cell_type": "code",
      "execution_count": null,
      "metadata": {
        "id": "ahjgmYyEtZzv"
      },
      "outputs": [],
      "source": [
        "import pandas as pd"
      ]
    },
    {
      "cell_type": "code",
      "source": [
        "df=pd.read_csv(\"/content/drive/MyDrive/data set/data (1) (1).csv\")\n",
        "print(df.head)"
      ],
      "metadata": {
        "colab": {
          "base_uri": "https://localhost:8080/"
        },
        "id": "stjqD7Asto-m",
        "outputId": "a32a6ee1-af7b-4ab5-de23-be722160ebd1"
      },
      "execution_count": null,
      "outputs": [
        {
          "output_type": "stream",
          "name": "stdout",
          "text": [
            "   Duration  Pulse  Maxpulse  Calories\n",
            "0        60    110       130     409.1\n",
            "1        60    117       145     479.0\n",
            "2        60    103       135     340.0\n",
            "3        45    109       175     282.4\n",
            "4        45    117       148     406.0\n"
          ]
        }
      ]
    },
    {
      "cell_type": "code",
      "source": [
        "df.shape"
      ],
      "metadata": {
        "colab": {
          "base_uri": "https://localhost:8080/"
        },
        "id": "h-_VSu1BuND3",
        "outputId": "00cf5187-e3a1-4a96-aa95-b5ac674777e3"
      },
      "execution_count": null,
      "outputs": [
        {
          "output_type": "execute_result",
          "data": {
            "text/plain": [
              "(169, 4)"
            ]
          },
          "metadata": {},
          "execution_count": 3
        }
      ]
    },
    {
      "cell_type": "code",
      "source": [
        "print(df.to_markdown())"
      ],
      "metadata": {
        "id": "JTJa_u5MuQEk"
      },
      "execution_count": null,
      "outputs": []
    },
    {
      "cell_type": "code",
      "source": [
        "df.fillna(130,inplace=True)"
      ],
      "metadata": {
        "id": "UEUrRqpCydLR"
      },
      "execution_count": null,
      "outputs": []
    },
    {
      "cell_type": "code",
      "source": [
        "print(df.to_markdown())"
      ],
      "metadata": {
        "colab": {
          "base_uri": "https://localhost:8080/"
        },
        "id": "Bmo98CmuyZv2",
        "outputId": "92620b59-b945-4fa3-f3a4-8de4ed49f50d"
      },
      "execution_count": null,
      "outputs": [
        {
          "output_type": "stream",
          "name": "stdout",
          "text": [
            "|     |   Duration |   Pulse |   Maxpulse |   Calories |\n",
            "|----:|-----------:|--------:|-----------:|-----------:|\n",
            "|   0 |         60 |     110 |        130 |      409.1 |\n",
            "|   1 |         60 |     117 |        145 |      479   |\n",
            "|   2 |         60 |     103 |        135 |      340   |\n",
            "|   3 |         45 |     109 |        175 |      282.4 |\n",
            "|   4 |         45 |     117 |        148 |      406   |\n",
            "|   5 |         60 |     102 |        127 |      300   |\n",
            "|   6 |         60 |     110 |        136 |      374   |\n",
            "|   7 |         45 |     104 |        134 |      253.3 |\n",
            "|   8 |         30 |     109 |        133 |      195.1 |\n",
            "|   9 |         60 |      98 |        124 |      269   |\n",
            "|  10 |         60 |     103 |        147 |      329.3 |\n",
            "|  11 |         60 |     100 |        120 |      250.7 |\n",
            "|  12 |         60 |     106 |        128 |      345.3 |\n",
            "|  13 |         60 |     104 |        132 |      379.3 |\n",
            "|  14 |         60 |      98 |        123 |      275   |\n",
            "|  15 |         60 |      98 |        120 |      215.2 |\n",
            "|  16 |         60 |     100 |        120 |      300   |\n",
            "|  17 |         45 |      90 |        112 |      130   |\n",
            "|  18 |         60 |     103 |        123 |      323   |\n",
            "|  19 |         45 |      97 |        125 |      243   |\n",
            "|  20 |         60 |     108 |        131 |      364.2 |\n",
            "|  21 |         45 |     100 |        119 |      282   |\n",
            "|  22 |         60 |     130 |        101 |      300   |\n",
            "|  23 |         45 |     105 |        132 |      246   |\n",
            "|  24 |         60 |     102 |        126 |      334.5 |\n",
            "|  25 |         60 |     100 |        120 |      250   |\n",
            "|  26 |         60 |      92 |        118 |      241   |\n",
            "|  27 |         60 |     103 |        132 |      130   |\n",
            "|  28 |         60 |     100 |        132 |      280   |\n",
            "|  29 |         60 |     102 |        129 |      380.3 |\n",
            "|  30 |         60 |      92 |        115 |      243   |\n",
            "|  31 |         45 |      90 |        112 |      180.1 |\n",
            "|  32 |         60 |     101 |        124 |      299   |\n",
            "|  33 |         60 |      93 |        113 |      223   |\n",
            "|  34 |         60 |     107 |        136 |      361   |\n",
            "|  35 |         60 |     114 |        140 |      415   |\n",
            "|  36 |         60 |     102 |        127 |      300   |\n",
            "|  37 |         60 |     100 |        120 |      300   |\n",
            "|  38 |         60 |     100 |        120 |      300   |\n",
            "|  39 |         45 |     104 |        129 |      266   |\n",
            "|  40 |         45 |      90 |        112 |      180.1 |\n",
            "|  41 |         60 |      98 |        126 |      286   |\n",
            "|  42 |         60 |     100 |        122 |      329.4 |\n",
            "|  43 |         60 |     111 |        138 |      400   |\n",
            "|  44 |         60 |     111 |        131 |      397   |\n",
            "|  45 |         60 |      99 |        119 |      273   |\n",
            "|  46 |         60 |     109 |        153 |      387.6 |\n",
            "|  47 |         45 |     111 |        136 |      300   |\n",
            "|  48 |         45 |     108 |        129 |      298   |\n",
            "|  49 |         60 |     111 |        139 |      397.6 |\n",
            "|  50 |         60 |     107 |        136 |      380.2 |\n",
            "|  51 |         80 |     123 |        146 |      643.1 |\n",
            "|  52 |         60 |     106 |        130 |      263   |\n",
            "|  53 |         60 |     118 |        151 |      486   |\n",
            "|  54 |         30 |     136 |        175 |      238   |\n",
            "|  55 |         60 |     121 |        146 |      450.7 |\n",
            "|  56 |         60 |     118 |        121 |      413   |\n",
            "|  57 |         45 |     115 |        144 |      305   |\n",
            "|  58 |         20 |     153 |        172 |      226.4 |\n",
            "|  59 |         45 |     123 |        152 |      321   |\n",
            "|  60 |        210 |     108 |        160 |     1376   |\n",
            "|  61 |        160 |     110 |        137 |     1034.4 |\n",
            "|  62 |        160 |     109 |        135 |      853   |\n",
            "|  63 |         45 |     118 |        141 |      341   |\n",
            "|  64 |         20 |     110 |        130 |      131.4 |\n",
            "|  65 |        180 |      90 |        130 |      800.4 |\n",
            "|  66 |        150 |     105 |        135 |      873.4 |\n",
            "|  67 |        150 |     107 |        130 |      816   |\n",
            "|  68 |         20 |     106 |        136 |      110.4 |\n",
            "|  69 |        300 |     108 |        143 |     1500.2 |\n",
            "|  70 |        150 |      97 |        129 |     1115   |\n",
            "|  71 |         60 |     109 |        153 |      387.6 |\n",
            "|  72 |         90 |     100 |        127 |      700   |\n",
            "|  73 |        150 |      97 |        127 |      953.2 |\n",
            "|  74 |         45 |     114 |        146 |      304   |\n",
            "|  75 |         90 |      98 |        125 |      563.2 |\n",
            "|  76 |         45 |     105 |        134 |      251   |\n",
            "|  77 |         45 |     110 |        141 |      300   |\n",
            "|  78 |        120 |     100 |        130 |      500.4 |\n",
            "|  79 |        270 |     100 |        131 |     1729   |\n",
            "|  80 |         30 |     159 |        182 |      319.2 |\n",
            "|  81 |         45 |     149 |        169 |      344   |\n",
            "|  82 |         30 |     103 |        139 |      151.1 |\n",
            "|  83 |        120 |     100 |        130 |      500   |\n",
            "|  84 |         45 |     100 |        120 |      225.3 |\n",
            "|  85 |         30 |     151 |        170 |      300   |\n",
            "|  86 |         45 |     102 |        136 |      234   |\n",
            "|  87 |        120 |     100 |        157 |     1000.1 |\n",
            "|  88 |         45 |     129 |        103 |      242   |\n",
            "|  89 |         20 |      83 |        107 |       50.3 |\n",
            "|  90 |        180 |     101 |        127 |      600.1 |\n",
            "|  91 |         45 |     107 |        137 |      130   |\n",
            "|  92 |         30 |      90 |        107 |      105.3 |\n",
            "|  93 |         15 |      80 |        100 |       50.5 |\n",
            "|  94 |         20 |     150 |        171 |      127.4 |\n",
            "|  95 |         20 |     151 |        168 |      229.4 |\n",
            "|  96 |         30 |      95 |        128 |      128.2 |\n",
            "|  97 |         25 |     152 |        168 |      244.2 |\n",
            "|  98 |         30 |     109 |        131 |      188.2 |\n",
            "|  99 |         90 |      93 |        124 |      604.1 |\n",
            "| 100 |         20 |      95 |        112 |       77.7 |\n",
            "| 101 |         90 |      90 |        110 |      500   |\n",
            "| 102 |         90 |      90 |        100 |      500   |\n",
            "| 103 |         90 |      90 |        100 |      500.4 |\n",
            "| 104 |         30 |      92 |        108 |       92.7 |\n",
            "| 105 |         30 |      93 |        128 |      124   |\n",
            "| 106 |        180 |      90 |        120 |      800.3 |\n",
            "| 107 |         30 |      90 |        120 |       86.2 |\n",
            "| 108 |         90 |      90 |        120 |      500.3 |\n",
            "| 109 |        210 |     137 |        184 |     1860.4 |\n",
            "| 110 |         60 |     102 |        124 |      325.2 |\n",
            "| 111 |         45 |     107 |        124 |      275   |\n",
            "| 112 |         15 |     124 |        139 |      124.2 |\n",
            "| 113 |         45 |     100 |        120 |      225.3 |\n",
            "| 114 |         60 |     108 |        131 |      367.6 |\n",
            "| 115 |         60 |     108 |        151 |      351.7 |\n",
            "| 116 |         60 |     116 |        141 |      443   |\n",
            "| 117 |         60 |      97 |        122 |      277.4 |\n",
            "| 118 |         60 |     105 |        125 |      130   |\n",
            "| 119 |         60 |     103 |        124 |      332.7 |\n",
            "| 120 |         30 |     112 |        137 |      193.9 |\n",
            "| 121 |         45 |     100 |        120 |      100.7 |\n",
            "| 122 |         60 |     119 |        169 |      336.7 |\n",
            "| 123 |         60 |     107 |        127 |      344.9 |\n",
            "| 124 |         60 |     111 |        151 |      368.5 |\n",
            "| 125 |         60 |      98 |        122 |      271   |\n",
            "| 126 |         60 |      97 |        124 |      275.3 |\n",
            "| 127 |         60 |     109 |        127 |      382   |\n",
            "| 128 |         90 |      99 |        125 |      466.4 |\n",
            "| 129 |         60 |     114 |        151 |      384   |\n",
            "| 130 |         60 |     104 |        134 |      342.5 |\n",
            "| 131 |         60 |     107 |        138 |      357.5 |\n",
            "| 132 |         60 |     103 |        133 |      335   |\n",
            "| 133 |         60 |     106 |        132 |      327.5 |\n",
            "| 134 |         60 |     103 |        136 |      339   |\n",
            "| 135 |         20 |     136 |        156 |      189   |\n",
            "| 136 |         45 |     117 |        143 |      317.7 |\n",
            "| 137 |         45 |     115 |        137 |      318   |\n",
            "| 138 |         45 |     113 |        138 |      308   |\n",
            "| 139 |         20 |     141 |        162 |      222.4 |\n",
            "| 140 |         60 |     108 |        135 |      390   |\n",
            "| 141 |         60 |      97 |        127 |      130   |\n",
            "| 142 |         45 |     100 |        120 |      250.4 |\n",
            "| 143 |         45 |     122 |        149 |      335.4 |\n",
            "| 144 |         60 |     136 |        170 |      470.2 |\n",
            "| 145 |         45 |     106 |        126 |      270.8 |\n",
            "| 146 |         60 |     107 |        136 |      400   |\n",
            "| 147 |         60 |     112 |        146 |      361.9 |\n",
            "| 148 |         30 |     103 |        127 |      185   |\n",
            "| 149 |         60 |     110 |        150 |      409.4 |\n",
            "| 150 |         60 |     106 |        134 |      343   |\n",
            "| 151 |         60 |     109 |        129 |      353.2 |\n",
            "| 152 |         60 |     109 |        138 |      374   |\n",
            "| 153 |         30 |     150 |        167 |      275.8 |\n",
            "| 154 |         60 |     105 |        128 |      328   |\n",
            "| 155 |         60 |     111 |        151 |      368.5 |\n",
            "| 156 |         60 |      97 |        131 |      270.4 |\n",
            "| 157 |         60 |     100 |        120 |      270.4 |\n",
            "| 158 |         60 |     114 |        150 |      382.8 |\n",
            "| 159 |         30 |      80 |        120 |      240.9 |\n",
            "| 160 |         30 |      85 |        120 |      250.4 |\n",
            "| 161 |         45 |      90 |        130 |      260.4 |\n",
            "| 162 |         45 |      95 |        130 |      270   |\n",
            "| 163 |         45 |     100 |        140 |      280.9 |\n",
            "| 164 |         60 |     105 |        140 |      290.8 |\n",
            "| 165 |         60 |     110 |        145 |      300   |\n",
            "| 166 |         60 |     115 |        145 |      310.2 |\n",
            "| 167 |         75 |     120 |        150 |      320.4 |\n",
            "| 168 |         75 |     125 |        150 |      330.4 |\n"
          ]
        }
      ]
    },
    {
      "cell_type": "code",
      "source": [
        "df=pd.read_csv(\"/content/drive/MyDrive/data set/data (1) (1).csv\")\n",
        "print(df.head())"
      ],
      "metadata": {
        "id": "2daJ7Ug6zFBn"
      },
      "execution_count": null,
      "outputs": []
    },
    {
      "cell_type": "code",
      "source": [
        "x = df[\"Calories\"].mode()[0]\n",
        "df.fillna(x,inplace=True)"
      ],
      "metadata": {
        "id": "ydJAcwI9z144"
      },
      "execution_count": null,
      "outputs": []
    },
    {
      "cell_type": "code",
      "source": [],
      "metadata": {
        "id": "4MX63diR1hj8"
      },
      "execution_count": null,
      "outputs": []
    },
    {
      "cell_type": "code",
      "source": [
        "print(df.to_markdown())\n"
      ],
      "metadata": {
        "id": "fyE7e36f0tL4"
      },
      "execution_count": null,
      "outputs": []
    },
    {
      "cell_type": "code",
      "source": [],
      "metadata": {
        "id": "HuLcXW5V1tNW"
      },
      "execution_count": null,
      "outputs": []
    },
    {
      "cell_type": "code",
      "source": [
        "x = df[\"Calories\"].mean()\n",
        "df[\"Calories\"].fillna, inplace = True"
      ],
      "metadata": {
        "colab": {
          "base_uri": "https://localhost:8080/",
          "height": 166
        },
        "id": "gG4pzSk400pm",
        "outputId": "21ae790c-e02c-4db2-8903-3601927fe33d"
      },
      "execution_count": null,
      "outputs": [
        {
          "output_type": "error",
          "ename": "TypeError",
          "evalue": "cannot unpack non-iterable bool object",
          "traceback": [
            "\u001b[0;31m---------------------------------------------------------------------------\u001b[0m",
            "\u001b[0;31mTypeError\u001b[0m                                 Traceback (most recent call last)",
            "\u001b[0;32m<ipython-input-19-b244f71af701>\u001b[0m in \u001b[0;36m<cell line: 2>\u001b[0;34m()\u001b[0m\n\u001b[1;32m      1\u001b[0m \u001b[0mx\u001b[0m \u001b[0;34m=\u001b[0m \u001b[0mdf\u001b[0m\u001b[0;34m[\u001b[0m\u001b[0;34m\"Calories\"\u001b[0m\u001b[0;34m]\u001b[0m\u001b[0;34m.\u001b[0m\u001b[0mmean\u001b[0m\u001b[0;34m(\u001b[0m\u001b[0;34m)\u001b[0m\u001b[0;34m\u001b[0m\u001b[0;34m\u001b[0m\u001b[0m\n\u001b[0;32m----> 2\u001b[0;31m \u001b[0mdf\u001b[0m\u001b[0;34m[\u001b[0m\u001b[0;34m\"Calories\"\u001b[0m\u001b[0;34m]\u001b[0m\u001b[0;34m.\u001b[0m\u001b[0mfillna\u001b[0m\u001b[0;34m,\u001b[0m \u001b[0minplace\u001b[0m \u001b[0;34m=\u001b[0m \u001b[0;32mTrue\u001b[0m\u001b[0;34m\u001b[0m\u001b[0;34m\u001b[0m\u001b[0m\n\u001b[0m",
            "\u001b[0;31mTypeError\u001b[0m: cannot unpack non-iterable bool object"
          ]
        }
      ]
    },
    {
      "cell_type": "code",
      "source": [
        "x = df[\"Calories\"].mean()\n",
        "df.fillna(x,inplace=True)"
      ],
      "metadata": {
        "id": "Ni_wH-Bu1lVt"
      },
      "execution_count": null,
      "outputs": []
    },
    {
      "cell_type": "code",
      "source": [
        "print(df.to_markdown())"
      ],
      "metadata": {
        "id": "KJkSzt5L1ubW"
      },
      "execution_count": null,
      "outputs": []
    },
    {
      "cell_type": "code",
      "source": [
        "df=pd.read_csv(\"/content/drive/MyDrive/data set/data (1) (1).csv\")\n",
        "print(df.head())"
      ],
      "metadata": {
        "id": "C3nO2MZS14D-"
      },
      "execution_count": null,
      "outputs": []
    },
    {
      "cell_type": "code",
      "source": [
        "x = df[\"Calories\"].mean()\n",
        "df.fillna(x,inplace=True)"
      ],
      "metadata": {
        "id": "i_LMUN_S2AYe"
      },
      "execution_count": null,
      "outputs": []
    },
    {
      "cell_type": "code",
      "source": [
        "print(df.to_markdown())"
      ],
      "metadata": {
        "id": "tQdWVD9C2FbO"
      },
      "execution_count": null,
      "outputs": []
    },
    {
      "cell_type": "code",
      "source": [
        "df=pd.read_csv(\"/content/drive/MyDrive/data set/data (1) (1).csv\")\n",
        "print(df.head())"
      ],
      "metadata": {
        "id": "HLBksVrO2M9W"
      },
      "execution_count": null,
      "outputs": []
    },
    {
      "cell_type": "code",
      "source": [
        "x = df[\"Calories\"].median()\n",
        "df.fillna(x,inplace=True)"
      ],
      "metadata": {
        "id": "AZFbEutd2QGZ"
      },
      "execution_count": null,
      "outputs": []
    },
    {
      "cell_type": "code",
      "source": [
        "print(df.to_markdown())"
      ],
      "metadata": {
        "id": "mQy2guKO2TwW"
      },
      "execution_count": null,
      "outputs": []
    },
    {
      "cell_type": "code",
      "source": [
        "df=pd.read_csv(\"/content/drive/MyDrive/data set/data (1) (1).csv\")\n",
        "print(df.head())"
      ],
      "metadata": {
        "id": "uhtiS2UO4Axu"
      },
      "execution_count": null,
      "outputs": []
    },
    {
      "cell_type": "code",
      "source": [
        "df.corr()"
      ],
      "metadata": {
        "colab": {
          "base_uri": "https://localhost:8080/",
          "height": 175
        },
        "id": "RZ2rzNZf4EmR",
        "outputId": "5ffffac7-18ef-47a1-e6b4-eacd504ce707"
      },
      "execution_count": null,
      "outputs": [
        {
          "output_type": "execute_result",
          "data": {
            "text/plain": [
              "          Duration     Pulse  Maxpulse  Calories\n",
              "Duration  1.000000 -0.155408  0.009403  0.922717\n",
              "Pulse    -0.155408  1.000000  0.786535  0.025121\n",
              "Maxpulse  0.009403  0.786535  1.000000  0.203813\n",
              "Calories  0.922717  0.025121  0.203813  1.000000"
            ],
            "text/html": [
              "\n",
              "  <div id=\"df-09f49fa2-48c1-448e-9364-8da67f549329\" class=\"colab-df-container\">\n",
              "    <div>\n",
              "<style scoped>\n",
              "    .dataframe tbody tr th:only-of-type {\n",
              "        vertical-align: middle;\n",
              "    }\n",
              "\n",
              "    .dataframe tbody tr th {\n",
              "        vertical-align: top;\n",
              "    }\n",
              "\n",
              "    .dataframe thead th {\n",
              "        text-align: right;\n",
              "    }\n",
              "</style>\n",
              "<table border=\"1\" class=\"dataframe\">\n",
              "  <thead>\n",
              "    <tr style=\"text-align: right;\">\n",
              "      <th></th>\n",
              "      <th>Duration</th>\n",
              "      <th>Pulse</th>\n",
              "      <th>Maxpulse</th>\n",
              "      <th>Calories</th>\n",
              "    </tr>\n",
              "  </thead>\n",
              "  <tbody>\n",
              "    <tr>\n",
              "      <th>Duration</th>\n",
              "      <td>1.000000</td>\n",
              "      <td>-0.155408</td>\n",
              "      <td>0.009403</td>\n",
              "      <td>0.922717</td>\n",
              "    </tr>\n",
              "    <tr>\n",
              "      <th>Pulse</th>\n",
              "      <td>-0.155408</td>\n",
              "      <td>1.000000</td>\n",
              "      <td>0.786535</td>\n",
              "      <td>0.025121</td>\n",
              "    </tr>\n",
              "    <tr>\n",
              "      <th>Maxpulse</th>\n",
              "      <td>0.009403</td>\n",
              "      <td>0.786535</td>\n",
              "      <td>1.000000</td>\n",
              "      <td>0.203813</td>\n",
              "    </tr>\n",
              "    <tr>\n",
              "      <th>Calories</th>\n",
              "      <td>0.922717</td>\n",
              "      <td>0.025121</td>\n",
              "      <td>0.203813</td>\n",
              "      <td>1.000000</td>\n",
              "    </tr>\n",
              "  </tbody>\n",
              "</table>\n",
              "</div>\n",
              "    <div class=\"colab-df-buttons\">\n",
              "\n",
              "  <div class=\"colab-df-container\">\n",
              "    <button class=\"colab-df-convert\" onclick=\"convertToInteractive('df-09f49fa2-48c1-448e-9364-8da67f549329')\"\n",
              "            title=\"Convert this dataframe to an interactive table.\"\n",
              "            style=\"display:none;\">\n",
              "\n",
              "  <svg xmlns=\"http://www.w3.org/2000/svg\" height=\"24px\" viewBox=\"0 -960 960 960\">\n",
              "    <path d=\"M120-120v-720h720v720H120Zm60-500h600v-160H180v160Zm220 220h160v-160H400v160Zm0 220h160v-160H400v160ZM180-400h160v-160H180v160Zm440 0h160v-160H620v160ZM180-180h160v-160H180v160Zm440 0h160v-160H620v160Z\"/>\n",
              "  </svg>\n",
              "    </button>\n",
              "\n",
              "  <style>\n",
              "    .colab-df-container {\n",
              "      display:flex;\n",
              "      gap: 12px;\n",
              "    }\n",
              "\n",
              "    .colab-df-convert {\n",
              "      background-color: #E8F0FE;\n",
              "      border: none;\n",
              "      border-radius: 50%;\n",
              "      cursor: pointer;\n",
              "      display: none;\n",
              "      fill: #1967D2;\n",
              "      height: 32px;\n",
              "      padding: 0 0 0 0;\n",
              "      width: 32px;\n",
              "    }\n",
              "\n",
              "    .colab-df-convert:hover {\n",
              "      background-color: #E2EBFA;\n",
              "      box-shadow: 0px 1px 2px rgba(60, 64, 67, 0.3), 0px 1px 3px 1px rgba(60, 64, 67, 0.15);\n",
              "      fill: #174EA6;\n",
              "    }\n",
              "\n",
              "    .colab-df-buttons div {\n",
              "      margin-bottom: 4px;\n",
              "    }\n",
              "\n",
              "    [theme=dark] .colab-df-convert {\n",
              "      background-color: #3B4455;\n",
              "      fill: #D2E3FC;\n",
              "    }\n",
              "\n",
              "    [theme=dark] .colab-df-convert:hover {\n",
              "      background-color: #434B5C;\n",
              "      box-shadow: 0px 1px 3px 1px rgba(0, 0, 0, 0.15);\n",
              "      filter: drop-shadow(0px 1px 2px rgba(0, 0, 0, 0.3));\n",
              "      fill: #FFFFFF;\n",
              "    }\n",
              "  </style>\n",
              "\n",
              "    <script>\n",
              "      const buttonEl =\n",
              "        document.querySelector('#df-09f49fa2-48c1-448e-9364-8da67f549329 button.colab-df-convert');\n",
              "      buttonEl.style.display =\n",
              "        google.colab.kernel.accessAllowed ? 'block' : 'none';\n",
              "\n",
              "      async function convertToInteractive(key) {\n",
              "        const element = document.querySelector('#df-09f49fa2-48c1-448e-9364-8da67f549329');\n",
              "        const dataTable =\n",
              "          await google.colab.kernel.invokeFunction('convertToInteractive',\n",
              "                                                    [key], {});\n",
              "        if (!dataTable) return;\n",
              "\n",
              "        const docLinkHtml = 'Like what you see? Visit the ' +\n",
              "          '<a target=\"_blank\" href=https://colab.research.google.com/notebooks/data_table.ipynb>data table notebook</a>'\n",
              "          + ' to learn more about interactive tables.';\n",
              "        element.innerHTML = '';\n",
              "        dataTable['output_type'] = 'display_data';\n",
              "        await google.colab.output.renderOutput(dataTable, element);\n",
              "        const docLink = document.createElement('div');\n",
              "        docLink.innerHTML = docLinkHtml;\n",
              "        element.appendChild(docLink);\n",
              "      }\n",
              "    </script>\n",
              "  </div>\n",
              "\n",
              "\n",
              "<div id=\"df-a1ec7f90-07ae-462a-bf67-50fa58fe8dae\">\n",
              "  <button class=\"colab-df-quickchart\" onclick=\"quickchart('df-a1ec7f90-07ae-462a-bf67-50fa58fe8dae')\"\n",
              "            title=\"Suggest charts\"\n",
              "            style=\"display:none;\">\n",
              "\n",
              "<svg xmlns=\"http://www.w3.org/2000/svg\" height=\"24px\"viewBox=\"0 0 24 24\"\n",
              "     width=\"24px\">\n",
              "    <g>\n",
              "        <path d=\"M19 3H5c-1.1 0-2 .9-2 2v14c0 1.1.9 2 2 2h14c1.1 0 2-.9 2-2V5c0-1.1-.9-2-2-2zM9 17H7v-7h2v7zm4 0h-2V7h2v10zm4 0h-2v-4h2v4z\"/>\n",
              "    </g>\n",
              "</svg>\n",
              "  </button>\n",
              "\n",
              "<style>\n",
              "  .colab-df-quickchart {\n",
              "      --bg-color: #E8F0FE;\n",
              "      --fill-color: #1967D2;\n",
              "      --hover-bg-color: #E2EBFA;\n",
              "      --hover-fill-color: #174EA6;\n",
              "      --disabled-fill-color: #AAA;\n",
              "      --disabled-bg-color: #DDD;\n",
              "  }\n",
              "\n",
              "  [theme=dark] .colab-df-quickchart {\n",
              "      --bg-color: #3B4455;\n",
              "      --fill-color: #D2E3FC;\n",
              "      --hover-bg-color: #434B5C;\n",
              "      --hover-fill-color: #FFFFFF;\n",
              "      --disabled-bg-color: #3B4455;\n",
              "      --disabled-fill-color: #666;\n",
              "  }\n",
              "\n",
              "  .colab-df-quickchart {\n",
              "    background-color: var(--bg-color);\n",
              "    border: none;\n",
              "    border-radius: 50%;\n",
              "    cursor: pointer;\n",
              "    display: none;\n",
              "    fill: var(--fill-color);\n",
              "    height: 32px;\n",
              "    padding: 0;\n",
              "    width: 32px;\n",
              "  }\n",
              "\n",
              "  .colab-df-quickchart:hover {\n",
              "    background-color: var(--hover-bg-color);\n",
              "    box-shadow: 0 1px 2px rgba(60, 64, 67, 0.3), 0 1px 3px 1px rgba(60, 64, 67, 0.15);\n",
              "    fill: var(--button-hover-fill-color);\n",
              "  }\n",
              "\n",
              "  .colab-df-quickchart-complete:disabled,\n",
              "  .colab-df-quickchart-complete:disabled:hover {\n",
              "    background-color: var(--disabled-bg-color);\n",
              "    fill: var(--disabled-fill-color);\n",
              "    box-shadow: none;\n",
              "  }\n",
              "\n",
              "  .colab-df-spinner {\n",
              "    border: 2px solid var(--fill-color);\n",
              "    border-color: transparent;\n",
              "    border-bottom-color: var(--fill-color);\n",
              "    animation:\n",
              "      spin 1s steps(1) infinite;\n",
              "  }\n",
              "\n",
              "  @keyframes spin {\n",
              "    0% {\n",
              "      border-color: transparent;\n",
              "      border-bottom-color: var(--fill-color);\n",
              "      border-left-color: var(--fill-color);\n",
              "    }\n",
              "    20% {\n",
              "      border-color: transparent;\n",
              "      border-left-color: var(--fill-color);\n",
              "      border-top-color: var(--fill-color);\n",
              "    }\n",
              "    30% {\n",
              "      border-color: transparent;\n",
              "      border-left-color: var(--fill-color);\n",
              "      border-top-color: var(--fill-color);\n",
              "      border-right-color: var(--fill-color);\n",
              "    }\n",
              "    40% {\n",
              "      border-color: transparent;\n",
              "      border-right-color: var(--fill-color);\n",
              "      border-top-color: var(--fill-color);\n",
              "    }\n",
              "    60% {\n",
              "      border-color: transparent;\n",
              "      border-right-color: var(--fill-color);\n",
              "    }\n",
              "    80% {\n",
              "      border-color: transparent;\n",
              "      border-right-color: var(--fill-color);\n",
              "      border-bottom-color: var(--fill-color);\n",
              "    }\n",
              "    90% {\n",
              "      border-color: transparent;\n",
              "      border-bottom-color: var(--fill-color);\n",
              "    }\n",
              "  }\n",
              "</style>\n",
              "\n",
              "  <script>\n",
              "    async function quickchart(key) {\n",
              "      const quickchartButtonEl =\n",
              "        document.querySelector('#' + key + ' button');\n",
              "      quickchartButtonEl.disabled = true;  // To prevent multiple clicks.\n",
              "      quickchartButtonEl.classList.add('colab-df-spinner');\n",
              "      try {\n",
              "        const charts = await google.colab.kernel.invokeFunction(\n",
              "            'suggestCharts', [key], {});\n",
              "      } catch (error) {\n",
              "        console.error('Error during call to suggestCharts:', error);\n",
              "      }\n",
              "      quickchartButtonEl.classList.remove('colab-df-spinner');\n",
              "      quickchartButtonEl.classList.add('colab-df-quickchart-complete');\n",
              "    }\n",
              "    (() => {\n",
              "      let quickchartButtonEl =\n",
              "        document.querySelector('#df-a1ec7f90-07ae-462a-bf67-50fa58fe8dae button');\n",
              "      quickchartButtonEl.style.display =\n",
              "        google.colab.kernel.accessAllowed ? 'block' : 'none';\n",
              "    })();\n",
              "  </script>\n",
              "</div>\n",
              "\n",
              "    </div>\n",
              "  </div>\n"
            ],
            "application/vnd.google.colaboratory.intrinsic+json": {
              "type": "dataframe",
              "summary": "{\n  \"name\": \"df\",\n  \"rows\": 4,\n  \"fields\": [\n    {\n      \"column\": \"Duration\",\n      \"properties\": {\n        \"dtype\": \"number\",\n        \"std\": 0.6017946133059593,\n        \"min\": -0.15540813258059757,\n        \"max\": 1.0,\n        \"samples\": [\n          -0.15540813258059757,\n          0.9227166783472459,\n          1.0\n        ],\n        \"num_unique_values\": 4,\n        \"semantic_type\": \"\",\n        \"description\": \"\"\n      }\n    },\n    {\n      \"column\": \"Pulse\",\n      \"properties\": {\n        \"dtype\": \"number\",\n        \"std\": 0.5649868629682231,\n        \"min\": -0.15540813258059757,\n        \"max\": 1.0,\n        \"samples\": [\n          1.0,\n          0.025121130626710137,\n          -0.15540813258059757\n        ],\n        \"num_unique_values\": 4,\n        \"semantic_type\": \"\",\n        \"description\": \"\"\n      }\n    },\n    {\n      \"column\": \"Maxpulse\",\n      \"properties\": {\n        \"dtype\": \"number\",\n        \"std\": 0.46922424788761236,\n        \"min\": 0.009402912085577832,\n        \"max\": 1.0,\n        \"samples\": [\n          0.7865346759989701,\n          0.2038132739055016,\n          0.009402912085577832\n        ],\n        \"num_unique_values\": 4,\n        \"semantic_type\": \"\",\n        \"description\": \"\"\n      }\n    },\n    {\n      \"column\": \"Calories\",\n      \"properties\": {\n        \"dtype\": \"number\",\n        \"std\": 0.4953707011623155,\n        \"min\": 0.025121130626710137,\n        \"max\": 1.0,\n        \"samples\": [\n          0.025121130626710137,\n          1.0,\n          0.9227166783472459\n        ],\n        \"num_unique_values\": 4,\n        \"semantic_type\": \"\",\n        \"description\": \"\"\n      }\n    }\n  ]\n}"
            }
          },
          "metadata": {},
          "execution_count": 30
        }
      ]
    },
    {
      "cell_type": "code",
      "source": [
        "df.drop_duplicates(inplace = True)"
      ],
      "metadata": {
        "id": "UN9_7pVq60RA"
      },
      "execution_count": null,
      "outputs": []
    },
    {
      "cell_type": "code",
      "source": [
        "df.shape"
      ],
      "metadata": {
        "colab": {
          "base_uri": "https://localhost:8080/"
        },
        "id": "Yqlw-nUl6-iG",
        "outputId": "aeb870c1-cbdd-42d5-8ba2-652727b8da72"
      },
      "execution_count": null,
      "outputs": [
        {
          "output_type": "execute_result",
          "data": {
            "text/plain": [
              "(162, 4)"
            ]
          },
          "metadata": {},
          "execution_count": 32
        }
      ]
    },
    {
      "cell_type": "code",
      "source": [
        "df=pd.read_csv(\"/content/drive/MyDrive/data set/BL-Flickr-Images-Book.csv\")\n",
        "print(df.head())"
      ],
      "metadata": {
        "colab": {
          "base_uri": "https://localhost:8080/"
        },
        "id": "ZlnDnnb_6_31",
        "outputId": "7546a6fb-4702-469a-e2b4-c29e4bd965e3"
      },
      "execution_count": null,
      "outputs": [
        {
          "output_type": "stream",
          "name": "stdout",
          "text": [
            "   Identifier             Edition Statement      Place of Publication  \\\n",
            "0         206                           NaN                    London   \n",
            "1         216                           NaN  London; Virtue & Yorston   \n",
            "2         218                           NaN                    London   \n",
            "3         472                           NaN                    London   \n",
            "4         480  A new edition, revised, etc.                    London   \n",
            "\n",
            "  Date of Publication              Publisher  \\\n",
            "0         1879 [1878]       S. Tinsley & Co.   \n",
            "1                1868           Virtue & Co.   \n",
            "2                1869  Bradbury, Evans & Co.   \n",
            "3                1851          James Darling   \n",
            "4                1857   Wertheim & Macintosh   \n",
            "\n",
            "                                               Title     Author  \\\n",
            "0                  Walter Forbes. [A novel.] By A. A      A. A.   \n",
            "1  All for Greed. [A novel. The dedication signed...  A., A. A.   \n",
            "2  Love the Avenger. By the author of “All for Gr...  A., A. A.   \n",
            "3  Welsh Sketches, chiefly ecclesiastical, to the...  A., E. S.   \n",
            "4  [The World in which I live, and my place in it...  A., E. S.   \n",
            "\n",
            "                                   Contributors  Corporate Author  \\\n",
            "0                               FORBES, Walter.               NaN   \n",
            "1  BLAZE DE BURY, Marie Pauline Rose - Baroness               NaN   \n",
            "2  BLAZE DE BURY, Marie Pauline Rose - Baroness               NaN   \n",
            "3                   Appleyard, Ernest Silvanus.               NaN   \n",
            "4                           BROOME, John Henry.               NaN   \n",
            "\n",
            "   Corporate Contributors Former owner  Engraver Issuance type  \\\n",
            "0                     NaN          NaN       NaN   monographic   \n",
            "1                     NaN          NaN       NaN   monographic   \n",
            "2                     NaN          NaN       NaN   monographic   \n",
            "3                     NaN          NaN       NaN   monographic   \n",
            "4                     NaN          NaN       NaN   monographic   \n",
            "\n",
            "                                          Flickr URL  \\\n",
            "0  http://www.flickr.com/photos/britishlibrary/ta...   \n",
            "1  http://www.flickr.com/photos/britishlibrary/ta...   \n",
            "2  http://www.flickr.com/photos/britishlibrary/ta...   \n",
            "3  http://www.flickr.com/photos/britishlibrary/ta...   \n",
            "4  http://www.flickr.com/photos/britishlibrary/ta...   \n",
            "\n",
            "                            Shelfmarks  \n",
            "0    British Library HMNTS 12641.b.30.  \n",
            "1    British Library HMNTS 12626.cc.2.  \n",
            "2    British Library HMNTS 12625.dd.1.  \n",
            "3  British Library HMNTS 10369.bbb.15.  \n",
            "4     British Library HMNTS 9007.d.28.  \n"
          ]
        }
      ]
    },
    {
      "cell_type": "code",
      "source": [
        "print(df.loc[0])"
      ],
      "metadata": {
        "id": "3fer86B79I4h"
      },
      "execution_count": null,
      "outputs": []
    },
    {
      "cell_type": "code",
      "source": [],
      "metadata": {
        "id": "ARNIiwjV9spR"
      },
      "execution_count": null,
      "outputs": []
    }
  ]
}